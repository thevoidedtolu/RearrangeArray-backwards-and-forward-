{
 "cells": [
  {
   "cell_type": "code",
   "execution_count": 1,
   "id": "1f2288f2-203f-4b2b-8377-e1b07478360d",
   "metadata": {},
   "outputs": [],
   "source": [
    "array = [\"elephant\", \"boy\", \"ant\", \"truck\", \"zebra\", \"sister\", \"sinister\"]"
   ]
  },
  {
   "cell_type": "code",
   "execution_count": 11,
   "id": "e1e439ea-4be1-41c1-8ee4-e79bb60a343c",
   "metadata": {},
   "outputs": [],
   "source": [
    "def arrangeTheArray(arr):\n",
    "    n = len(arr)\n",
    "    #bubble algorithm\n",
    "    for i in range(n):\n",
    "        for j in range(0, n-i-1):\n",
    "            if arr[j] > arr[j+1]:\n",
    "                arr[j], arr[j+1] = arr[j+1], arr[j]\n",
    "    return arr\n"
   ]
  },
  {
   "cell_type": "code",
   "execution_count": 12,
   "id": "444786d3-6c73-458a-b809-900c9744e46f",
   "metadata": {},
   "outputs": [
    {
     "name": "stdout",
     "output_type": "stream",
     "text": [
      "['ant', 'boy', 'elephant', 'sinister', 'sister', 'truck', 'zebra']\n"
     ]
    }
   ],
   "source": [
    "rearranged = arrangeTheArray(array)\n",
    "print(rearranged)"
   ]
  },
  {
   "cell_type": "code",
   "execution_count": 13,
   "id": "90e7f633-afbd-4d80-9d68-21563a56354f",
   "metadata": {},
   "outputs": [],
   "source": [
    "def reverse(arr):\n",
    "    n = len(arr)\n",
    "    for i in range(n):\n",
    "        #bubble algorithm\n",
    "        for j in range(0, n-i-1):\n",
    "            if arr[j] < arr[j+1]:\n",
    "                arr[j+1], arr[j] = arr[j], arr[j+1]\n",
    "    return arr"
   ]
  },
  {
   "cell_type": "code",
   "execution_count": 14,
   "id": "c10f3690-0153-441c-b0cf-065c4850c7c3",
   "metadata": {},
   "outputs": [
    {
     "name": "stdout",
     "output_type": "stream",
     "text": [
      "['zebra', 'truck', 'sister', 'sinister', 'elephant', 'boy', 'ant']\n"
     ]
    }
   ],
   "source": [
    "descending = reverse(array)\n",
    "print(descending)"
   ]
  }
 ],
 "metadata": {
  "kernelspec": {
   "display_name": "Python 3 (ipykernel)",
   "language": "python",
   "name": "python3"
  },
  "language_info": {
   "codemirror_mode": {
    "name": "ipython",
    "version": 3
   },
   "file_extension": ".py",
   "mimetype": "text/x-python",
   "name": "python",
   "nbconvert_exporter": "python",
   "pygments_lexer": "ipython3",
   "version": "3.10.5"
  }
 },
 "nbformat": 4,
 "nbformat_minor": 5
}
